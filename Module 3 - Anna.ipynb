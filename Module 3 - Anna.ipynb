{
 "cells": [
  {
   "cell_type": "markdown",
   "metadata": {},
   "source": [
    "## Connect to an online CosmosDB account which exists\n",
    "\n",
    "For this section, we will explore and get hands-on with the .NET SDK for the Azure Cosmos DB SQL API.\n",
    "\n",
    "After completing this module, you'll be able to:\n",
    "\n",
    "- Integrate the Microsoft.Azure.Cosmos SDK library from NuGet\n",
    "- Connect to an Azure Cosmos DB SQL API account using the SDK and .NET\n",
    "\n",
    "***NuGet is the package manager for .NET. The NuGet client tools provide the ability to produce and consume packages. The NuGet Gallery is the central package repository used by all package authors and consumers.***\n",
    "\n",
    "The **Microsoft.Azure.Cosmos** library is the latest version of the .NET SDK for Azure Cosmos DB SQL API.\n",
    "\n",
    "The library is open-source and hosted online on **GitHub** at ***azure/azure-cosmos-dotnet-v3***. The opensource project conforms to the Microsoft Open Source Code of Conduct and accepts contributions and suggestions from the community.\n",
    "\n",
    "The Microsoft.Azure.Cosmos library includes a namespace of the same name with common classes that you will explore later in this module including, but not limited to:"
   ]
  },
  {
   "cell_type": "markdown",
   "metadata": {},
   "source": [
    "|Class|Description|\n",
    "|---|---|\n",
    "|**Microsoft.Azure.Cosmos.CosmosClient**|Client-side logical representation of an Azure Cosmos DB account and the primary class used for the SDK|\n",
    "|**Microsoft.Azure.Cosmos.Database**|Logically represents a database client-side and includes common operations for database management|\n",
    "|**Microsoft.Azure.Cosmos.Container**|Logically represents a container client-side and includes common operations for container management|"
   ]
  },
  {
   "cell_type": "markdown",
   "metadata": {},
   "source": [
    "When working with the actual C# code, you will use a command in Powershell, similar to what we have in the below cell, in order to install the package in the .NET project folder (i.e. where you are developing the code)."
   ]
  },
  {
   "cell_type": "code",
   "execution_count": null,
   "metadata": {
    "dotnet_interactive": {
     "language": "pwsh"
    }
   },
   "outputs": [
    {
     "name": "stdout",
     "output_type": "stream",
     "text": [
      "  Determining projects to restore...\r\n",
      "  Writing C:\\Users\\anna\\AppData\\Local\\Temp\\tmp18B6.tmp\r\n",
      "info : Adding PackageReference for package 'Microsoft.Azure.Cosmos' into project 'C:\\Users\\anna\\Documents\\Courseware\\DP420\\NotebooksAnna\\module_03_001\\app.csproj'.\r\n",
      "info :   CACHE https://api.nuget.org/v3/registration5-gz-semver2/microsoft.azure.cosmos/index.json\r\n",
      "info : Restoring packages for C:\\Users\\anna\\Documents\\Courseware\\DP420\\NotebooksAnna\\module_03_001\\app.csproj...\r\n",
      "info : Package 'Microsoft.Azure.Cosmos' is compatible with all the specified frameworks in project 'C:\\Users\\anna\\Documents\\Courseware\\DP420\\NotebooksAnna\\module_03_001\\app.csproj'.\r\n",
      "info : PackageReference for package 'Microsoft.Azure.Cosmos' version '3.26.1' updated in file 'C:\\Users\\anna\\Documents\\Courseware\\DP420\\NotebooksAnna\\module_03_001\\app.csproj'.\r\n",
      "info : Assets file has not changed. Skipping assets file writing. Path: C:\\Users\\anna\\Documents\\Courseware\\DP420\\NotebooksAnna\\module_03_001\\obj\\project.assets.json\r\n",
      "log  : Restored C:\\Users\\anna\\Documents\\Courseware\\DP420\\NotebooksAnna\\module_03_001\\app.csproj (in 291 ms).\r\n"
     ]
    }
   ],
   "source": [
    "cd C:\\Users\\anna\\Documents\\Courseware\\DP420\\NotebooksAnna\\module_03_001\n",
    "dotnet add package Microsoft.Azure.Cosmos\n",
    "#dotnet add package Microsoft.Azure.Cosmos --version 3.22.1"
   ]
  },
  {
   "cell_type": "code",
   "execution_count": null,
   "metadata": {
    "dotnet_interactive": {
     "language": "pwsh"
    }
   },
   "outputs": [
    {
     "name": "stdout",
     "output_type": "stream",
     "text": [
      "\r\n",
      "\u001b[32;1mAccount                  SubscriptionName TenantId                             Environment\u001b[0m\r\n",
      "\u001b[32;1m-------                  ---------------- --------                             -----------\u001b[0m\r\n",
      "annavanyan@microsoft.com annamicrosoft    72f988bf-86f1-41af-91ab-2d7cd011db47 AzureCloud\r\n",
      "\r\n"
     ]
    }
   ],
   "source": [
    "#Now let's connect to my Azure portal and fetch the Cosmos DB key\n",
    "$subscriptionName = \"annamicrosoft\"\n",
    "Connect-AzAccount -Subscription $subscriptionName"
   ]
  },
  {
   "cell_type": "code",
   "execution_count": null,
   "metadata": {
    "dotnet_interactive": {
     "language": "pwsh"
    }
   },
   "outputs": [],
   "source": [
    "\n",
    "$resourceGroupName = \"DP420LabArchiveCosmos\"    # Resource Group must already exist\n",
    "$accountName = \"cosmosdbaccountanna001\"         # Must be all lower case\n",
    "$keyKind = \"primary\"                            # Other key kinds: secondary, primaryReadOnly, secondaryReadOnly\n",
    "\n",
    "#The two below lines will print out my keys, so let's not do that for security reasons - but keeping it for info purposes\n",
    "#Write-Host \"List keys\" \n",
    "#Get-AzCosmosDBAccountKey -ResourceGroupName $resourceGroupName -Name $accountName -Type \"Keys\"\n",
    "\n",
    "#The below variables are going to retrieve and store our connection string, primary key and endpoint of the Cosmos DB account.\n",
    "#We will use them later on in the further C# cells to connect to the Cosmos DB account using the .NET SDK (i.e. C#)\n",
    "\n",
    "$connectionString = (Get-AzCosmosDBAccountKey -ResourceGroupName $resourceGroupName -Name $accountName -Type \"ConnectionStrings\")[\"Primary SQL Connection String\"]\n",
    "$primaryMasterKey = (Get-AzCosmosDBAccountKey -ResourceGroupName $resourceGroupName -Name $accountName -Type \"Keys\")[\"PrimaryMasterKey\"]\n",
    "$documentEndpoint = (Get-AzCosmosDBAccount -ResourceGroupName $resourceGroupName -Name $accountName).DocumentEndpoint"
   ]
  },
  {
   "cell_type": "markdown",
   "metadata": {
    "dotnet_interactive": {
     "language": "pwsh"
    }
   },
   "source": [
    "Now we need to install the packages that we will be using and transfer the variables that store the connection string, the primary master key and the endpoint into Cosmos DB C# code cells.\n",
    "That is what we will do below : "
   ]
  },
  {
   "cell_type": "code",
   "execution_count": null,
   "metadata": {
    "dotnet_interactive": {
     "language": "csharp"
    }
   },
   "outputs": [
    {
     "data": {
      "text/html": [
       "<div><div></div><div></div><div><strong>Installed Packages</strong><ul><li><span>Bogus, 34.0.1</span></li><li><span>Microsoft.Azure.Cosmos, 3.22.1</span></li><li><span>Newtonsoft.Json, 13.0.1</span></li></ul></div></div>"
      ]
     },
     "metadata": {},
     "output_type": "display_data"
    }
   ],
   "source": [
    "#r \"nuget: Newtonsoft.Json, 13.0.1\"\n",
    "#r \"nuget: Microsoft.Azure.Cosmos , 3.22.1\"\n",
    "#r \"nuget: Bogus, 34.0.1\"\n",
    "\n",
    "#!share --from pwsh connectionString\n",
    "#!share --from pwsh primaryMasterKey\n",
    "#!share --from pwsh documentEndpoint"
   ]
  },
  {
   "cell_type": "markdown",
   "metadata": {},
   "source": [
    "Once the **Microsoft.Azure.Cosmos** library is imported, you can begin using the namespaces and classes within your .NET project.\n",
    "\n",
    "### Import the namespace ###\n",
    "\n",
    "Before using the library, you should import the **Microsoft.Azure.Cosmos** namespace using a `using` directive. The using directive allows you to use types within the namespace without being forced to fully qualify each type.\n",
    "\n",
    ">`using System;`\n",
    "\n",
    ">`using System.Linq;`\n",
    "\n",
    ">`using Microsoft.Azure.Cosmos;`"
   ]
  },
  {
   "cell_type": "code",
   "execution_count": null,
   "metadata": {
    "dotnet_interactive": {
     "language": "csharp"
    }
   },
   "outputs": [],
   "source": [
    "using System;\n",
    "using System.Linq;\n",
    "using Microsoft.Azure.Cosmos;"
   ]
  },
  {
   "cell_type": "markdown",
   "metadata": {
    "dotnet_interactive": {
     "language": "csharp"
    }
   },
   "source": [
    "### Use the CosmosClient class\n",
    "\n",
    "The two most common ways to create an instance for the **CosmosClient class** is to instantiate it with one of the following two constructors:\n",
    "\n",
    "- A constructor that takes a single string value representing the connection string for the account.\n",
    "- A constructor that takes two string values representing the endpoint and a key for the account.\n",
    "\n",
    "This example uses a connection string in the AccountEndpoint=<account-endpoint>;AccountKey=<account-key> format with the fictional endpoint and key.\n",
    "\n",
    "**Remember** - we retrieved the connection strinc from the Powershell cell earlier and passed the value in a variable called **connectionString**.\n",
    "\n"
   ]
  },
  {
   "cell_type": "code",
   "execution_count": null,
   "metadata": {
    "dotnet_interactive": {
     "language": "csharp"
    }
   },
   "outputs": [],
   "source": [
    "CosmosClient client = new (connectionString);"
   ]
  },
  {
   "cell_type": "markdown",
   "metadata": {},
   "source": [
    "Once the client instance is instantiated, you can use various methods directly. For example, you can asynchronously invoke the **ReadAccountAsync** method to get an object of type AccountProperties with various properties."
   ]
  },
  {
   "cell_type": "code",
   "execution_count": null,
   "metadata": {
    "dotnet_interactive": {
     "language": "csharp"
    }
   },
   "outputs": [],
   "source": [
    "\n",
    "AccountProperties account = await client.ReadAccountAsync();"
   ]
  },
  {
   "cell_type": "markdown",
   "metadata": {},
   "source": [
    "So let us now print to the console the information about the Cosmos DB Account that we obtained from the cell above, by invoking the **ReadAccountAsync** method."
   ]
  },
  {
   "cell_type": "code",
   "execution_count": null,
   "metadata": {
    "dotnet_interactive": {
     "language": "csharp"
    }
   },
   "outputs": [
    {
     "name": "stdout",
     "output_type": "stream",
     "text": [
      "Account Name:\tcosmosdbaccountanna001\r\n",
      "Primary Region:\tFrance Central\r\n"
     ]
    }
   ],
   "source": [
    "\n",
    "\n",
    "Console.WriteLine($\"Account Name:\\t{account.Id}\");\n",
    "Console.WriteLine($\"Primary Region:\\t{account.WritableRegions.FirstOrDefault()?.Name}\");"
   ]
  },
  {
   "cell_type": "markdown",
   "metadata": {},
   "source": [
    "## Interact with a database\n",
    "\n",
    "Once you have a client instance, you can retrieve or create a database using one of three methods:\n",
    "\n",
    "- Retrieve an existing database using the name\n",
    "- Create a new database passing in a unique database name\n",
    "- Have the SDK check for the existence of the database and either create or retrieve it automatically\n",
    "\n",
    "Any of these three methods will return an instance of type Database that you can use to interact with the database."
   ]
  },
  {
   "cell_type": "markdown",
   "metadata": {},
   "source": [
    "Let us first fetch an existing database in CosmosDB account using the below syntax : \n",
    "\n",
    ">`Database database = client.GetDatabase(\"theNameOfMyDatabase\");`"
   ]
  },
  {
   "cell_type": "code",
   "execution_count": null,
   "metadata": {
    "dotnet_interactive": {
     "language": "csharp"
    }
   },
   "outputs": [],
   "source": [
    "string myDBName = \"CustomerProfile\";\n",
    "Database database = client.GetDatabase(myDBName);"
   ]
  },
  {
   "cell_type": "markdown",
   "metadata": {},
   "source": [
    "We can create a database using one of the below methods : \n",
    "\n",
    ">`Database database = await client.CreateDatabaseAsync(\"cosmicworks\");`\n",
    "\n",
    ">`Database database = await client.CreateDatabaseIfNotExistsAsync(\"cosmicworks\");`\n",
    "\n",
    "Let us use the second method to create a database in Cosmos DB Account, names ***cosmicworks***"
   ]
  },
  {
   "cell_type": "code",
   "execution_count": null,
   "metadata": {
    "dotnet_interactive": {
     "language": "csharp"
    }
   },
   "outputs": [],
   "source": [
    "string myDBToCreateName = \"cosmicworks\";\n",
    "Database database = await client.CreateDatabaseIfNotExistsAsync(myDBToCreateName);"
   ]
  },
  {
   "cell_type": "markdown",
   "metadata": {},
   "source": [
    "In order to specify the database throughput and depending on the .NET SDK version, we can use the options below : \n",
    "\n",
    ">|.NET SDK v2|.NET SDK v3|\n",
    ">|---|---|\n",
    ">|//set the throughput for the database <br> `RequestOptions options = new RequestOptions` <br> `{` <br> `OfferThroughput = 500` <br> `};` <br> <br> //create the database <br> `await client.CreateDatabaseIfNotExistsAsync(` <br> `new Database {Id = databaseName},` <br> <br> `options);` <br>|//create the database with throughput <br> `string databaseName = \"MyDatabaseName\";` <br> <br> `await this.cosmosClient.CreateDatabaseIfNotExistsAsync(` <br> <br> `id: databaseName,` <br> `throughput: 1000);`|\n"
   ]
  },
  {
   "cell_type": "markdown",
   "metadata": {},
   "source": [
    "Now let us create a container within our newly created ***cosmicworks*** database."
   ]
  },
  {
   "cell_type": "code",
   "execution_count": null,
   "metadata": {
    "dotnet_interactive": {
     "language": "csharp"
    }
   },
   "outputs": [],
   "source": [
    "Container container = await database.CreateContainerIfNotExistsAsync(\n",
    "    \"products\", \n",
    "    \"/categoryId\", \n",
    "    400\n",
    ");"
   ]
  },
  {
   "cell_type": "markdown",
   "metadata": {},
   "source": [
    "As you will notice, we specified the throughput in the code. In case if we would like to modify it in future, we can use the syntax below : "
   ]
  },
  {
   "cell_type": "code",
   "execution_count": null,
   "metadata": {
    "dotnet_interactive": {
     "language": "csharp"
    }
   },
   "outputs": [],
   "source": [
    "Container container = database.GetContainer(\"products\");\n",
    "\n",
    "ThroughputResponse throughput = await container.ReplaceThroughputAsync(\n",
    "    ThroughputProperties.CreateManualThroughput(500));"
   ]
  },
  {
   "cell_type": "markdown",
   "metadata": {},
   "source": [
    "In order to see the changes that we made, you can go to the Azure Portal -> Cosmos DB account -> the database ***cosmicworks*** -> **Scale and Settings** pane.\n",
    "\n",
    "If you had already the page opened, please refresh the page completely to see the changes."
   ]
  },
  {
   "cell_type": "markdown",
   "metadata": {},
   "source": []
  },
  {
   "cell_type": "markdown",
   "metadata": {},
   "source": []
  },
  {
   "cell_type": "markdown",
   "metadata": {},
   "source": []
  },
  {
   "cell_type": "markdown",
   "metadata": {},
   "source": [
    "## Azure Cosmos DB Connectivity modes ##\n",
    "\n",
    "How a client connects to Azure Cosmos DB has important performance implications, especially for observed client-side latency. Azure Cosmos DB offers a simple, open RESTful programming model over HTTPS called gateway mode. Additionally, it offers an efficient TCP protocol, which is also RESTful in its communication model and uses TLS for initial authentication and encrypting traffic, called direct mode.\n",
    "\n",
    "### Available connectivity modes ###\n",
    "\n",
    "The two available connectivity modes are:\n",
    "\n",
    "- ##### Gateway mode #####\n",
    "\n",
    "Gateway mode is supported on all SDK platforms. If your application runs within a corporate network with strict firewall restrictions, gateway mode is the best choice because it uses the standard HTTPS port and a single DNS endpoint. The performance tradeoff, however, is that gateway mode involves an additional network hop every time data is read from or written to Azure Cosmos DB. We also recommend gateway connection mode when you run applications in environments that have a limited number of socket connections.\n",
    "\n",
    "When you use the SDK in Azure Functions, particularly in the Consumption plan, be aware of the current limits on connections.\n",
    "\n",
    "- ##### Direct mode #####\n",
    "\n",
    "Direct mode supports connectivity through TCP protocol and offers better performance because there are fewer network hops. The application connects directly to the backend replicas. Direct mode is currently only supported on .NET and Java SDK platforms.\n"
   ]
  },
  {
   "cell_type": "markdown",
   "metadata": {},
   "source": []
  },
  {
   "cell_type": "markdown",
   "metadata": {},
   "source": []
  },
  {
   "cell_type": "markdown",
   "metadata": {},
   "source": []
  }
 ],
 "metadata": {
  "kernelspec": {
   "display_name": ".NET (C#)",
   "language": "C#",
   "name": ".net-csharp"
  },
  "language_info": {
   "name": "C#"
  }
 },
 "nbformat": 4,
 "nbformat_minor": 2
}
