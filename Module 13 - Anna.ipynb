{
 "cells": [
  {
   "cell_type": "markdown",
   "metadata": {},
   "source": [
    "## Create server-side programming constructs in Azure Cosmos DB SQL API - Stored Procedures ##\n",
    "\n",
    "#### Understand transactions in the context of JavaScript SDK ####\n",
    "\n",
    "In a database, a transaction is typically defined as a sequence of point operations grouped together into a single unit of work. It's expected that a transaction provides **ACID** guarantees:\n",
    "\n",
    "- **Atomicity** guarantees that all the work done inside a transaction is treated as a single unit where either all of it is committed or none.\n",
    "- **Consistency** makes sure that the data is always in a healthy internal state across transactions.\n",
    "- **Isolation** guarantees that no two transactions interfere with each other – generally, most commercial systems provide multiple isolation levels that can be used based on the application's needs.\n",
    "- **Durability** ensures that any change that's committed in the database will always be present.\n",
    "\n",
    "In Azure Cosmos DB SQL API, a stored procedure executes one or more operations as a single unit of work within the same scope. Stored procedures are registered in containers, and run within the scope of that specific container."
   ]
  },
  {
   "cell_type": "markdown",
   "metadata": {},
   "source": [
    "##### Stored Procedure vs SDK ACID transactions #####\n",
    "\n",
    "Cosmos DB allows for stored procedures, triggers, and user-defined functions to run within its database engine. Interestingly, these are written using JavaScript and uploaded to the Cosmos DB collection in which they will run. Server-side programming gives a lot of extra power to a Cosmos DB-based application, including the ability to run transactions across multiple documents within the collection. In fact, server-side programming is the only way to get transaction semantics within Cosmos DB.\n",
    "\n",
    "##### Consistency: Transactions and Indexes #####\n",
    "\n",
    "Cosmos DB’s client-side programming model does not provide for transactional consistency across multiple documents. For example, you may have two documents to insert or update, and require that either both operations succeed or – if there is a problem with writing one of them – that both of them should fail. The Cosmos DB server-side programmability model allows for this behaviour to be implemented, because all server-side code runs within an implicit transaction. This means that we get ACID transaction semantics automatically whenever we execute a stored procedure or trigger. \n",
    "\n",
    "\n",
    "##### How is that TransactionalBatch executed? (await container.CreateTransactionalBatch(new PartitionKey(partitionKey))) #####\n",
    "When ExecuteAsync is called, all operations in the TransactionalBatch are grouped, serialized into a single payload, and sent as a single request to the Azure Cosmos DB service.\n",
    "The service receives the request and executes all operations within a transactional scope, and returns a response using the same serialization protocol. This response is either a success, or a failure, and contains all the individual operation responses internally.\n",
    "\n"
   ]
  },
  {
   "cell_type": "markdown",
   "metadata": {},
   "source": [
    "For the stored procedure, the operations must be complete with the **server request timeout** duration.\n",
    "Transactions are defined as JavaScript functions. The function is then executed when the stored procedure is invoked.\n",
    "\n",
    ">`function name() {`\n",
    ">\n",
    ">`}`\n",
    "\n",
    "Within the function, the `getContext()` method retrieves a context object, which can be used to perform multiple actions, including:\n",
    "\n",
    "- Access the HTTP response object\n",
    "\n",
    "- Access the corresponding Azure Cosmos DB SQL API container\n",
    "\n",
    "Using the context object, you can invoke the `getResponse()` method to access the HTTP response object to perform actions such as returning a HTTP OK (200) and setting the response's body to a static string.\n",
    "\n",
    ">`function greet() {`\n",
    "\n",
    ">`    var context = getContext();`\n",
    "\n",
    ">`    var response = context.getResponse();`\n",
    "\n",
    ">`    response.setBody(\"Hello, Learn!\");`\n",
    "\n",
    ">`}`\n",
    "\n",
    "We can also create new items using stored procedures.\n",
    "\n",
    "Again, use the context object, you can invoke the `getCollection()` method to access the container using the JavaScript query API.\n",
    "\n",
    ">` function createProduct(item) {`\n",
    "\n",
    ">`     var context = getContext();` \n",
    "\n",
    ">`     var container = context.getCollection(); `\n",
    "\n",
    ">`     container.createDocument(`\n",
    "\n",
    ">`         container.getSelfLink(),`\n",
    "\n",
    ">`         item`\n",
    "\n",
    ">`    );`\n",
    "\n",
    ">` }`\n",
    "\n",
    "Although the stored procedure above will run fine, it will not let us know if it did not finish within the server response time.\n",
    "\n",
    ">` function createProduct(item) {`\n",
    "\n",
    ">`    var context = getContext();`\n",
    "\n",
    ">`    var container = context.getCollection(); `\n",
    "\n",
    ">`    var accepted = container.createDocument(`\n",
    "\n",
    ">`        container.getSelfLink(),`\n",
    "\n",
    ">`        item,`\n",
    "\n",
    ">`        (error, newItem) => {`\n",
    "\n",
    ">`            if (error) throw error;`\n",
    "\n",
    ">`            context.getResponse().setBody(newItem)`\n",
    "\n",
    ">`        }`\n",
    "\n",
    ">`    );`\n",
    "\n",
    ">`    if (!accepted) return;`\n",
    "\n",
    ">`}`"
   ]
  },
  {
   "cell_type": "markdown",
   "metadata": {},
   "source": [
    "#### Demo - Connect to CosmosDB, feed it and create a stored procedure ####\n",
    "\n",
    "In order to create a stored procedure, we need to have a CosmosDB account provisioned and a database with a container existing.\n",
    "In this example, we are using a database named **cosmicworks** with a container ***products***.\n",
    "\n",
    "We will be first connecting to that database, and feed it using the ***cosmicworks*** utility. Then we will create the stored procedure that inserts an item inside the database. We will do this portion from the Azure Portal and verify the result by running a SQL query.\n",
    "\n",
    "Now let us connect to my existing Cosmos DB account and upload some data to it : "
   ]
  },
  {
   "cell_type": "code",
   "execution_count": null,
   "metadata": {
    "dotnet_interactive": {
     "language": "pwsh"
    }
   },
   "outputs": [],
   "source": [
    "$resourceGroupName = \"DP420LabArchiveCosmos\"    # Resource Group must already exist\n",
    "$accountName = \"cosmosdbaccountanna001\"         # Must be all lower case\n",
    "$keyKind = \"primary\"                            # Other key kinds: secondary, primaryReadOnly, secondaryReadOnly\n",
    "\n",
    "#The two below lines will print out my keys, so let's not do that for security reasons - but keeping it for info purposes\n",
    "#Write-Host \"List keys\" \n",
    "#Get-AzCosmosDBAccountKey -ResourceGroupName $resourceGroupName -Name $accountName -Type \"Keys\"\n",
    "\n",
    "#The below variables are going to retrieve and store our connection string, primary key and endpoint of the Cosmos DB account.\n",
    "#We will use them later on in the further C# cells to connect to the Cosmos DB account using the .NET SDK (i.e. C#)\n",
    "\n",
    "$connectionString = (Get-AzCosmosDBAccountKey -ResourceGroupName $resourceGroupName -Name $accountName -Type \"ConnectionStrings\")[\"Primary SQL Connection String\"]\n",
    "$primaryMasterKey = (Get-AzCosmosDBAccountKey -ResourceGroupName $resourceGroupName -Name $accountName -Type \"Keys\")[\"PrimaryMasterKey\"]\n",
    "$documentEndpoint = (Get-AzCosmosDBAccount -ResourceGroupName $resourceGroupName -Name $accountName).DocumentEndpoint"
   ]
  },
  {
   "cell_type": "code",
   "execution_count": null,
   "metadata": {
    "dotnet_interactive": {
     "language": "csharp"
    }
   },
   "outputs": [
    {
     "data": {
      "text/html": [
       "<div><div></div><div></div><div><strong>Installed Packages</strong><ul><li><span>Microsoft.Azure.Cosmos, 3.22.1</span></li><li><span>Newtonsoft.Json, 13.0.1</span></li></ul></div></div>"
      ]
     },
     "metadata": {},
     "output_type": "display_data"
    }
   ],
   "source": [
    "#r \"nuget: Newtonsoft.Json, 13.0.1\"\n",
    "#r \"nuget: Microsoft.Azure.Cosmos , 3.22.1\"\n",
    "\n",
    "#!share --from pwsh connectionString\n",
    "#!share --from pwsh primaryMasterKey\n",
    "#!share --from pwsh documentEndpoint"
   ]
  },
  {
   "cell_type": "code",
   "execution_count": null,
   "metadata": {
    "dotnet_interactive": {
     "language": "pwsh"
    }
   },
   "outputs": [
    {
     "name": "stdout",
     "output_type": "stream",
     "text": [
      "Tool 'cosmicworks' is already installed.\r\n"
     ]
    }
   ],
   "source": [
    "dotnet tool install --global cosmicworks"
   ]
  },
  {
   "cell_type": "code",
   "execution_count": null,
   "metadata": {
    "dotnet_interactive": {
     "language": "pwsh"
    }
   },
   "outputs": [
    {
     "name": "stdout",
     "output_type": "stream",
     "text": [
      "Endpoint:\thttps://cosmosdbaccountanna001.documents.azure.com:443/\r\n",
      "Auth Key:\tT2NHOPlvTXHIBxAKD63a9m3HmTG9kWmiDU2X0ZJOlUXTPDSzW9QJu5b2s4YNTU94uk5W5IRXhoJb2Ues1vD9rw==\r\n",
      "\r\n",
      "Revision:\tv4\r\n",
      "Datasets:\r\n",
      "\tproduct\r\n",
      "\r\n",
      "Database:\t[cosmicworks]\tStatus:\tCreated\r\n",
      "Container:\t[products]\tStatus:\tReady\r\n",
      "\r\n",
      "Entity:\t[9E6692D7-57E1-4D35-ACD8-105D44A1073B]\tContainer:products\tStatus:\tRanToCompletion\r\n",
      "Entity:\t[A042C88C-B060-4A64-B314-ED92124047E5]\tContainer:products\tStatus:\tRanToCompletion\r\n",
      "Entity:\t[91AA100C-D092-4190-92A7-7C02410F04EA]\tContainer:products\tStatus:\tRanToCompletion\r\n",
      "Entity:\t[2C981511-AC73-4A65-9DA3-A0577E386394]\tContainer:products\tStatus:\tRanToCompletion\r\n",
      "Entity:\t[14174164-F6C0-47FC-83FB-604C6A63408D]\tContainer:products\tStatus:\tRanToCompletion\r\n",
      "Entity:\t[98324A24-9D56-4662-93A5-9A7370E7EE5A]\tContainer:products\tStatus:\tRanToCompletion\r\n",
      "Entity:\t[ACC683CB-6199-416E-AE64-7C10D0C72CF9]\tContainer:products\tStatus:\tRanToCompletion\r\n",
      "Entity:\t[1A176FDB-D9A8-4888-BDD9-CE4F12E97AAE]\tContainer:products\tStatus:\tRanToCompletion\r\n",
      "Entity:\t[A875BC33-C4AC-4D2B-B018-9FF4672A2BB9]\tContainer:products\tStatus:\tRanToCompletion\r\n",
      "Entity:\t[FCF95DBC-BBAD-467B-9639-FC6E4EC42B4C]\tContainer:products\tStatus:\tRanToCompletion\r\n",
      "Entity:\t[08225A9E-F2B3-4FA3-AB08-8C70ADD6C3C2]\tContainer:products\tStatus:\tRanToCompletion\r\n",
      "Entity:\t[91D3C273-9E79-4395-B444-6D39BF9B2F4D]\tContainer:products\tStatus:\tRanToCompletion\r\n",
      "Entity:\t[F32990D7-F8E4-4ACD-AA8C-1F03D8299DE7]\tContainer:products\tStatus:\tRanToCompletion\r\n",
      "Entity:\t[987E39AC-6C62-4717-9929-E9BDFF9902ED]\tContainer:products\tStatus:\tRanToCompletion\r\n",
      "Entity:\t[3F105575-8677-42F9-8E1F-76E4B450F136]\tContainer:products\tStatus:\tRanToCompletion\r\n",
      "Entity:\t[FC0B659C-C1EF-41F3-AFE2-F87C7F43AD48]\tContainer:products\tStatus:\tRanToCompletion\r\n",
      "Entity:\t[A6F069C2-EF85-4B79-9CE2-03833343AD92]\tContainer:products\tStatus:\tRanToCompletion\r\n",
      "Entity:\t[9FCA9658-8506-4268-8539-DBAA65C51F41]\tContainer:products\tStatus:\tRanToCompletion\r\n",
      "Entity:\t[61B55CE9-DEB4-49B3-AB55-0AAC11EBBBBF]\tContainer:products\tStatus:\tRanToCompletion\r\n",
      "Entity:\t[AFBE0496-C372-4885-B509-507B93027174]\tContainer:products\tStatus:\tRanToCompletion\r\n",
      "Entity:\t[3FE1A99E-DE14-4D11-B635-F5D39258A0B9]\tContainer:products\tStatus:\tRanToCompletion\r\n",
      "Entity:\t[0B77351B-8F31-45D2-AECC-85BABD03B24E]\tContainer:products\tStatus:\tRanToCompletion\r\n",
      "Entity:\t[1BEAE2B0-134A-4780-9A7A-5FA17EADD513]\tContainer:products\tStatus:\tRanToCompletion\r\n",
      "Entity:\t[9851FE19-CCA4-4B94-B6AC-CCE579D7F693]\tContainer:products\tStatus:\tRanToCompletion\r\n",
      "Entity:\t[5253671B-E50E-4686-9A17-4F51C2B65C0F]\tContainer:products\tStatus:\tRanToCompletion\r\n",
      "Entity:\t[B79B140D-4369-429B-8F20-E28F3ED7F82A]\tContainer:products\tStatus:\tRanToCompletion\r\n",
      "Entity:\t[DC8209E8-151E-425C-B7D9-7F082B66E39D]\tContainer:products\tStatus:\tRanToCompletion\r\n",
      "Entity:\t[0A7E57DA-C73F-467F-954F-17B7AFD6227E]\tContainer:products\tStatus:\tRanToCompletion\r\n",
      "Entity:\t[EFD1F33B-94AE-4309-B6E6-F9CCC2B61278]\tContainer:products\tStatus:\tRanToCompletion\r\n",
      "Entity:\t[16F9DF28-56B4-4185-9B82-B85666BFA3A6]\tContainer:products\tStatus:\tRanToCompletion\r\n",
      "Entity:\t[A13C5B23-34DF-41C7-849C-0BA623BEFE02]\tContainer:products\tStatus:\tRanToCompletion\r\n",
      "Entity:\t[751115E7-BD5E-45C7-932B-E9DDE9D62579]\tContainer:products\tStatus:\tRanToCompletion\r\n",
      "Entity:\t[290B4594-95BE-47C5-863A-4EFAAFC0AED7]\tContainer:products\tStatus:\tRanToCompletion\r\n",
      "Entity:\t[9DB28F2B-ADC8-40A2-A677-B0AAFC32CAC8]\tContainer:products\tStatus:\tRanToCompletion\r\n",
      "Entity:\t[F6628734-A209-46A2-9010-0F19E7D3F3D3]\tContainer:products\tStatus:\tRanToCompletion\r\n",
      "Entity:\t[397635D8-D71F-47B2-AD68-4ECA6A03F84F]\tContainer:products\tStatus:\tRanToCompletion\r\n",
      "Entity:\t[FA06B762-D602-4235-8F77-D8AFB0D3D050]\tContainer:products\tStatus:\tRanToCompletion\r\n",
      "Entity:\t[894D03FA-1A4A-4FA4-9A0B-C3169EBB5674]\tContainer:products\tStatus:\tRanToCompletion\r\n",
      "Entity:\t[201D0D79-81AD-43D2-AD6E-F09EEE6AC2D7]\tContainer:products\tStatus:\tRanToCompletion\r\n",
      "Entity:\t[967155B3-9925-4FA3-84B0-B24CDA101C1B]\tContainer:products\tStatus:\tRanToCompletion\r\n",
      "Entity:\t[FADA3DBE-28DC-4FFA-823E-99332AD2EA0C]\tContainer:products\tStatus:\tRanToCompletion\r\n",
      "Entity:\t[B10065F8-543A-49E7-BFE6-3D19B0BE5670]\tContainer:products\tStatus:\tRanToCompletion\r\n",
      "Entity:\t[12DD6F29-6AA2-4C03-8873-19581F97E9CD]\tContainer:products\tStatus:\tRanToCompletion\r\n",
      "Entity:\t[E78CEEF9-A87B-4612-8BD3-4E5DC8AC4700]\tContainer:products\tStatus:\tRanToCompletion\r\n",
      "Entity:\t[6374995F-9A78-43CD-AE0D-5F6041078140]\tContainer:products\tStatus:\tRanToCompletion\r\n",
      "Entity:\t[8B363B8B-378E-402A-9E68-A935302000B8]\tContainer:products\tStatus:\tRanToCompletion\r\n",
      "Entity:\t[5089E32E-8A60-4117-AA98-5EF8AB9A61D1]\tContainer:products\tStatus:\tRanToCompletion\r\n",
      "Entity:\t[AFED4FD0-17D1-4CD5-8639-13F15B043EC2]\tContainer:products\tStatus:\tRanToCompletion\r\n",
      "Entity:\t[0C3D95EB-EE37-44A5-816F-957A98519B03]\tContainer:products\tStatus:\tRanToCompletion\r\n",
      "Entity:\t[2CE4EFA7-5DC6-4D3E-ACB2-B7DDE4518408]\tContainer:products\tStatus:\tRanToCompletion\r\n",
      "Entity:\t[11E6FD95-0FF1-4FE8-9A6B-EC53F614212D]\tContainer:products\tStatus:\tRanToCompletion\r\n",
      "Entity:\t[F07F8C10-4820-4C80-AAE2-1DDEC41E5A29]\tContainer:products\tStatus:\tRanToCompletion\r\n",
      "Entity:\t[6E3AA511-67DF-4EAD-8F0C-4C9F91F7D335]\tContainer:products\tStatus:\tRanToCompletion\r\n",
      "Entity:\t[5BFADECD-2240-4480-9485-1256D1D60EA8]\tContainer:products\tStatus:\tRanToCompletion\r\n",
      "Entity:\t[71BDFE67-6499-4A8E-9CCA-9E9AF7D92A7A]\tContainer:products\tStatus:\tRanToCompletion\r\n",
      "Entity:\t[DB89A887-43E3-4D9C-8783-7F034ACD88C0]\tContainer:products\tStatus:\tRanToCompletion\r\n",
      "Entity:\t[18B722BF-4742-4F1F-8336-3AB2E76B2908]\tContainer:products\tStatus:\tRanToCompletion\r\n",
      "Entity:\t[0990C3D9-4EC2-4272-ADB6-9481CA12F5F6]\tContainer:products\tStatus:\tRanToCompletion\r\n",
      "Entity:\t[6FB5B2D5-5725-4998-9B6C-2FF2B7A3E3E0]\tContainer:products\tStatus:\tRanToCompletion\r\n",
      "Entity:\t[E223E34D-E0D0-4DFA-AB7D-8E72F94F2202]\tContainer:products\tStatus:\tRanToCompletion\r\n",
      "Entity:\t[14912B0B-EA77-47B8-8F1C-C8E4BE859D7C]\tContainer:products\tStatus:\tRanToCompletion\r\n",
      "Entity:\t[7133D6F6-C8FD-4AD1-83E8-5622D1746E25]\tContainer:products\tStatus:\tRanToCompletion\r\n",
      "Entity:\t[4E4B38CB-0D82-43E5-89AF-20270CD28A04]\tContainer:products\tStatus:\tRanToCompletion\r\n",
      "Entity:\t[4DA12D36-495E-4DCA-95B0-F18CAA099779]\tContainer:products\tStatus:\tRanToCompletion\r\n",
      "Entity:\t[0D7CB85D-4518-4E02-8E46-9683947BBBC4]\tContainer:products\tStatus:\tRanToCompletion\r\n",
      "Entity:\t[056C459F-DA40-475E-B7BE-B87B6DB39D33]\tContainer:products\tStatus:\tRanToCompletion\r\n",
      "Entity:\t[4B0848F8-7BF5-4DB9-84A7-C4D69F2E3E8E]\tContainer:products\tStatus:\tRanToCompletion\r\n",
      "Entity:\t[DFE5521E-40C6-4A58-8E8D-5FC1BE5EC0FE]\tContainer:products\tStatus:\tRanToCompletion\r\n",
      "Crash:\t[E8767BC9-D6BA-47FC-9842-3511468869B6]\tContainer:products\tReason:Faulted\r\n",
      "Crash:\t[F2447558-7C01-442E-A7BC-B6D5D8AE1070]\tContainer:products\tReason:Faulted\r\n",
      "Crash:\t[0F124781-C991-48A9-ACF2-249771D44029]\tContainer:products\tReason:Faulted\r\n",
      "Crash:\t[FDEF01CB-5067-414F-B0A3-07FF8A4B80DD]\tContainer:products\tReason:Faulted\r\n",
      "Crash:\t[0B013EA7-B40E-4996-A494-D1E2840FEAAE]\tContainer:products\tReason:Faulted\r\n",
      "Crash:\t[FB9A5084-F2B2-4C3B-9CF9-252873CABFF7]\tContainer:products\tReason:Faulted\r\n",
      "Crash:\t[BF381234-799A-4B1A-BD4B-B55891CC5907]\tContainer:products\tReason:Faulted\r\n",
      "Crash:\t[668E6FCE-03E9-49E7-AC33-1B17FEEF5E60]\tContainer:products\tReason:Faulted\r\n",
      "Crash:\t[44873725-7B3B-4B28-804D-963D2D62E761]\tContainer:products\tReason:Faulted\r\n",
      "Crash:\t[A6BB4603-7CD5-43DC-920A-2A2F55D52492]\tContainer:products\tReason:Faulted\r\n",
      "Crash:\t[FE8FFBD3-99AE-4ECF-AA53-D1304D941EC7]\tContainer:products\tReason:Faulted\r\n",
      "Crash:\t[5B5E90B8-FEA2-4D6C-B728-EC586656FA6D]\tContainer:products\tReason:Faulted\r\n",
      "Crash:\t[DA96F0D0-84C7-42C3-BE74-FEB39BD60EF5]\tContainer:products\tReason:Faulted\r\n",
      "Crash:\t[600DDD58-C9D0-4118-9A69-B7716ED3A303]\tContainer:products\tReason:Faulted\r\n",
      "Crash:\t[A9EFB9E2-8859-4401-B8A6-F7E2D5264FEE]\tContainer:products\tReason:Faulted\r\n",
      "Crash:\t[C0FBA4E8-B617-4889-B1A5-091D12783313]\tContainer:products\tReason:Faulted\r\n",
      "Crash:\t[6EB9F7AC-7FB0-4D8C-8D3F-76A735A3CB9A]\tContainer:products\tReason:Faulted\r\n",
      "Crash:\t[B8587D85-224F-4252-9521-A1763D63AEC2]\tContainer:products\tReason:Faulted\r\n",
      "Crash:\t[5996B5E0-6EC7-4CB7-A924-7B5A053AE980]\tContainer:products\tReason:Faulted\r\n",
      "Crash:\t[B2AC17CB-A69E-462E-B72A-917CB544FF81]\tContainer:products\tReason:Faulted\r\n",
      "Crash:\t[3ADF5B22-B5B2-43CD-9E07-36A187EB9473]\tContainer:products\tReason:Faulted\r\n",
      "Crash:\t[8B541087-A7F5-43B1-AC9F-EEFB4F4ADAFA]\tContainer:products\tReason:Faulted\r\n",
      "Crash:\t[B267655B-A7C1-41E3-9682-21730E93FCB5]\tContainer:products\tReason:Faulted\r\n",
      "Crash:\t[EDCB55C5-4CF5-424F-9083-310F940879FA]\tContainer:products\tReason:Faulted\r\n",
      "Crash:\t[9190229B-1372-4997-8F64-5B3E7A2459C5]\tContainer:products\tReason:Faulted\r\n",
      "Crash:\t[794ACC61-01E9-49BF-B150-1D02EE01D76F]\tContainer:products\tReason:Faulted\r\n",
      "Crash:\t[CB038CA5-3728-4B59-B209-22FAB210F58B]\tContainer:products\tReason:Faulted\r\n",
      "Crash:\t[A6040C40-906B-4A87-9E2C-683A8037A1C3]\tContainer:products\tReason:Faulted\r\n",
      "Crash:\t[FE292D83-1F34-4845-A467-7C62AD3C6CBE]\tContainer:products\tReason:Faulted\r\n",
      "Crash:\t[BD340F0A-F661-4ED8-B36F-FBA7623605D9]\tContainer:products\tReason:Faulted\r\n",
      "Crash:\t[840E2138-4265-4AC8-8514-AC0B9C98597C]\tContainer:products\tReason:Faulted\r\n",
      "Entity:\t[06AC4FFF-9F97-429B-BB15-ED929EFF65EE]\tContainer:products\tStatus:\tRanToCompletion\r\n",
      "Crash:\t[B0FE1D0A-CED1-49E8-9ACF-E289A631A4ED]\tContainer:products\tReason:Faulted\r\n",
      "Crash:\t[906A453F-2B5E-469A-87B5-FFA531EE615D]\tContainer:products\tReason:Faulted\r\n",
      "Crash:\t[F7261436-B748-42D6-A7C9-ACD2B589F0B7]\tContainer:products\tReason:Faulted\r\n",
      "Crash:\t[B3847F90-FDF3-4529-B7D0-04FE6F94BFB3]\tContainer:products\tReason:Faulted\r\n",
      "Crash:\t[56560B7B-3AC6-4E07-8825-4266A7C98CFE]\tContainer:products\tReason:Faulted\r\n",
      "Crash:\t[5D3F5A52-A8BB-448C-B8CF-39D2FA2BDF3C]\tContainer:products\tReason:Faulted\r\n",
      "Crash:\t[CC8D2C8C-AB60-48BE-A019-33F633DB07CD]\tContainer:products\tReason:Faulted\r\n",
      "Entity:\t[34C0090C-B299-433B-8D31-42EFCDC5874D]\tContainer:products\tStatus:\tRanToCompletion\r\n",
      "Crash:\t[ABDE32DD-FADD-4042-9278-0440B7B2F3E0]\tContainer:products\tReason:Faulted\r\n",
      "Crash:\t[E08E4507-9666-411B-AAC4-519C00596B0A]\tContainer:products\tReason:Faulted\r\n",
      "Entity:\t[824D58CA-ECCA-4E72-965C-66D3A5C0C67C]\tContainer:products\tStatus:\tRanToCompletion\r\n",
      "Crash:\t[2BA4A26C-A8DB-4645-BEB9-F7D42F50262E]\tContainer:products\tReason:Faulted\r\n",
      "Crash:\t[58B0F878-2619-4225-B9B1-9C6C4FFF9C17]\tContainer:products\tReason:Faulted\r\n",
      "Crash:\t[7EA0EEEB-824E-42E9-B787-019219CE4466]\tContainer:products\tReason:Faulted\r\n",
      "Crash:\t[DE8C032F-472A-4FFE-A8AE-4C7FFAF06DA8]\tContainer:products\tReason:Faulted\r\n",
      "Crash:\t[B03973CE-FAAD-4BE2-84FF-5BA5C751B6D0]\tContainer:products\tReason:Faulted\r\n",
      "Crash:\t[E681778F-8359-468B-98F9-4D325D6C377F]\tContainer:products\tReason:Faulted\r\n",
      "Crash:\t[DE810086-817F-440C-9FEF-471083B8E4A0]\tContainer:products\tReason:Faulted\r\n",
      "Crash:\t[EF3F4DC1-5F73-4234-B10E-6608F4DC937A]\tContainer:products\tReason:Faulted\r\n",
      "Crash:\t[08CF5494-D064-40CF-952B-E33ED9CE9297]\tContainer:products\tReason:Faulted\r\n",
      "Crash:\t[7BAA49C9-21B5-4EEF-9F6B-BCD6DA7C2239]\tContainer:products\tReason:Faulted\r\n",
      "Crash:\t[56BB7DD2-2421-4671-A527-7373008DD553]\tContainer:products\tReason:Faulted\r\n",
      "Crash:\t[5308BAE7-B0CB-4883-9A93-192CB10DC94F]\tContainer:products\tReason:Faulted\r\n",
      "Crash:\t[DDD64AA0-30DC-4DC1-BCDC-2882A0FD178C]\tContainer:products\tReason:Faulted\r\n",
      "Crash:\t[28A865D5-647E-46B5-B309-CA2B2F524E37]\tContainer:products\tReason:Faulted\r\n",
      "Crash:\t[409BC0E0-2B43-4F82-9C36-2E4ABBB7344C]\tContainer:products\tReason:Faulted\r\n",
      "Crash:\t[ACD4ABE3-82D8-4447-B126-2DE03B7DD106]\tContainer:products\tReason:Faulted\r\n",
      "Crash:\t[80D3630F-B661-4FD6-A296-CD03BB7A4A0C]\tContainer:products\tReason:Faulted\r\n",
      "Crash:\t[916ACEDC-DCF4-4118-90C6-B9572D30714E]\tContainer:products\tReason:Faulted\r\n",
      "Crash:\t[2EE56307-0398-465E-A340-1C5FB1C85648]\tContainer:products\tReason:Faulted\r\n",
      "Crash:\t[26E6C049-667F-4463-AF1D-660953231165]\tContainer:products\tReason:Faulted\r\n",
      "Crash:\t[B35B87F4-5ADE-4ED4-9469-DF024AC4195D]\tContainer:products\tReason:Faulted\r\n",
      "Crash:\t[E60D6D23-0151-4B7E-BC56-598B9FEE026B]\tContainer:products\tReason:Faulted\r\n",
      "Crash:\t[8826E4D4-36FF-42AD-A33F-0E7794215158]\tContainer:products\tReason:Faulted\r\n",
      "Crash:\t[DF94F21F-4CDB-4E49-B67B-CAD318A31C4A]\tContainer:products\tReason:Faulted\r\n",
      "Crash:\t[027D0B9A-F9D9-4C96-8213-C8546C4AAE71]\tContainer:products\tReason:Faulted\r\n",
      "Crash:\t[CD5FF4D6-7D2D-4BD4-9319-CB38C1939D96]\tContainer:products\tReason:Faulted\r\n",
      "Crash:\t[94265B3D-7718-47F0-ADF7-64DEE36CAC41]\tContainer:products\tReason:Faulted\r\n",
      "Crash:\t[32B61AF2-53BE-4E36-85D8-A24738769352]\tContainer:products\tReason:Faulted\r\n",
      "Crash:\t[18711AD6-0999-4E74-B2F5-81720A6BA5A2]\tContainer:products\tReason:Faulted\r\n",
      "Crash:\t[9C0320C4-124B-486A-BA98-B7B82933F324]\tContainer:products\tReason:Faulted\r\n",
      "Crash:\t[5C30FF31-CAB7-4A99-8FD6-D610F58AC4BA]\tContainer:products\tReason:Faulted\r\n",
      "Crash:\t[47C70E1E-E500-41B3-8615-DCCB963D9E35]\tContainer:products\tReason:Faulted\r\n",
      "Crash:\t[52FAD88C-567E-469D-A35E-574EA3BF147F]\tContainer:products\tReason:Faulted\r\n",
      "Crash:\t[FB118699-4C89-493B-B0AB-DA517935773E]\tContainer:products\tReason:Faulted\r\n",
      "Crash:\t[CEA9FD38-517E-474B-A5B1-B17BF1753F9C]\tContainer:products\tReason:Faulted\r\n",
      "Crash:\t[9351199A-B781-482D-80BE-2C11394002E5]\tContainer:products\tReason:Faulted\r\n",
      "Crash:\t[C310A68D-DBF2-421A-91CA-F09A3B8A1AAA]\tContainer:products\tReason:Faulted\r\n",
      "Crash:\t[3FA9E0D9-E6E9-429D-9E24-7DAFE9B99A2C]\tContainer:products\tReason:Faulted\r\n",
      "Crash:\t[BCD77A3D-9FF1-4CE4-9327-4C2A41BA9F0F]\tContainer:products\tReason:Faulted\r\n",
      "Crash:\t[9183E546-A94B-4B7F-845B-A53E0EF5C626]\tContainer:products\tReason:Faulted\r\n",
      "Crash:\t[866F8033-A439-42D9-99EE-178C1285F13E]\tContainer:products\tReason:Faulted\r\n",
      "Crash:\t[8BAA2AFB-CAE5-4A96-ABB2-46EDF9B5680E]\tContainer:products\tReason:Faulted\r\n",
      "Crash:\t[601A5234-644D-4B83-9FDB-326C22C1051D]\tContainer:products\tReason:Faulted\r\n",
      "Crash:\t[935EB2B7-8D50-4E20-B01A-570DBA674AD4]\tContainer:products\tReason:Faulted\r\n",
      "Crash:\t[520E3E6B-95F1-4258-9F74-E434848E88B2]\tContainer:products\tReason:Faulted\r\n",
      "Crash:\t[FFCA3096-199F-41C3-99D1-35BC88D8AC6F]\tContainer:products\tReason:Faulted\r\n",
      "Crash:\t[063F1A00-8CA1-4DB9-8298-BEAC4B8CC238]\tContainer:products\tReason:Faulted\r\n",
      "Crash:\t[ABB81D0E-4744-44EC-8AAB-FB3962FD2AF7]\tContainer:products\tReason:Faulted\r\n",
      "Crash:\t[BF87ACE3-C52B-44EA-9871-4A6497B3AF9F]\tContainer:products\tReason:Faulted\r\n",
      "Crash:\t[92DB7ABD-1C8E-458C-8828-9BFD1984B07D]\tContainer:products\tReason:Faulted\r\n",
      "Crash:\t[86FD9250-4BD5-42D2-B941-1C1865A6A65E]\tContainer:products\tReason:Faulted\r\n",
      "Crash:\t[24BE4267-85D8-4C1A-B184-C08709495752]\tContainer:products\tReason:Faulted\r\n",
      "Crash:\t[0E92DDAC-F969-4F63-8D5E-614AB5199D01]\tContainer:products\tReason:Faulted\r\n",
      "Crash:\t[BB21E6EF-104A-420B-B9C5-2084118E5A2F]\tContainer:products\tReason:Faulted\r\n",
      "Crash:\t[A2E169C8-0916-4CAD-9C7B-FBAF463D0DB3]\tContainer:products\tReason:Faulted\r\n",
      "Crash:\t[47ED1C3B-C205-4507-94EE-3B69A744B261]\tContainer:products\tReason:Faulted\r\n",
      "Crash:\t[F5FB0386-C6AC-40AE-9342-7AFB832233A8]\tContainer:products\tReason:Faulted\r\n",
      "Crash:\t[EC65B816-A2A7-4245-B138-43C03F14C514]\tContainer:products\tReason:Faulted\r\n",
      "Crash:\t[3B52D15D-DF6C-4042-BA15-2EFEA8A2F852]\tContainer:products\tReason:Faulted\r\n",
      "Crash:\t[312A464A-1830-4755-8FB2-2ED32DC7FDD6]\tContainer:products\tReason:Faulted\r\n",
      "Crash:\t[462F8EAF-0988-4D32-B809-EB4362AF48D0]\tContainer:products\tReason:Faulted\r\n",
      "Crash:\t[55594B1E-1E16-4B2E-A16F-983E492321BC]\tContainer:products\tReason:Faulted\r\n",
      "Crash:\t[5ED1BF5F-6C1F-4EF8-B1A7-B8A8412C9F72]\tContainer:products\tReason:Faulted\r\n",
      "Crash:\t[332C8377-F7B5-44C2-8DFC-B374294FD9B2]\tContainer:products\tReason:Faulted\r\n",
      "Crash:\t[435D4B82-D557-4752-B825-D28767FB32D3]\tContainer:products\tReason:Faulted\r\n",
      "Crash:\t[29663491-D2E9-47B4-83AE-D9459B6B5B67]\tContainer:products\tReason:Faulted\r\n",
      "Crash:\t[E5A67B5B-B190-45CB-A9E4-BE3F6BD49214]\tContainer:products\tReason:Faulted\r\n",
      "Crash:\t[E2CCAF6F-7AB5-4086-86A3-A50B3E6EF101]\tContainer:products\tReason:Faulted\r\n",
      "Crash:\t[61246D01-7C38-489E-9F49-A526679B568F]\tContainer:products\tReason:Faulted\r\n",
      "Crash:\t[EE40F7FD-AB2C-4589-B54D-BEBACB3B083E]\tContainer:products\tReason:Faulted\r\n",
      "Crash:\t[5BC9F76B-7FE9-4DD9-A672-2C5E802B2672]\tContainer:products\tReason:Faulted\r\n",
      "Crash:\t[8D3DCF87-D1ED-44DD-8DB8-085EB98C8A52]\tContainer:products\tReason:Faulted\r\n",
      "Crash:\t[21756241-F313-4D34-9914-9B7DAC76F9D6]\tContainer:products\tReason:Faulted\r\n",
      "Crash:\t[4424AA2A-CC8D-4471-9478-21E91185593C]\tContainer:products\tReason:Faulted\r\n",
      "Crash:\t[EEE4159B-F224-4C02-B578-2F398229592D]\tContainer:products\tReason:Faulted\r\n",
      "Crash:\t[311D60FC-9EB9-4194-B594-1E5BD87CCF81]\tContainer:products\tReason:Faulted\r\n",
      "Crash:\t[EF16A6FA-9BE2-4AF9-872A-299A9EA88D5F]\tContainer:products\tReason:Faulted\r\n",
      "Crash:\t[6401B68F-924A-4B2E-AC9E-5660AEA0E848]\tContainer:products\tReason:Faulted\r\n",
      "Crash:\t[B1AAF271-9DFA-4826-91A3-F3B4BFF49B1C]\tContainer:products\tReason:Faulted\r\n",
      "Crash:\t[6F733A5D-9B66-4718-B69C-627DE4E164BA]\tContainer:products\tReason:Faulted\r\n",
      "Crash:\t[58978B2E-D4C6-4D69-A840-D935688F9C2D]\tContainer:products\tReason:Faulted\r\n",
      "Crash:\t[1E0D3EBA-563D-4DA1-8D6C-FE9C7A63EE2B]\tContainer:products\tReason:Faulted\r\n",
      "Crash:\t[0846D2C3-7E50-4F68-A6CB-F0DC90FD03D0]\tContainer:products\tReason:Faulted\r\n",
      "Crash:\t[B08450AA-413C-4663-A62D-7291A8ECF1F5]\tContainer:products\tReason:Faulted\r\n",
      "Crash:\t[E9FCF7AC-1F45-4857-9E75-BC30A7C7C27B]\tContainer:products\tReason:Faulted\r\n",
      "Crash:\t[D47E0CC9-28A0-40A5-AB90-BB29BDBB0578]\tContainer:products\tReason:Faulted\r\n",
      "Crash:\t[92413209-8DA6-4661-9E11-26B55990BEB2]\tContainer:products\tReason:Faulted\r\n",
      "Crash:\t[491834BE-AAA5-419D-B166-77B93F20EBA7]\tContainer:products\tReason:Faulted\r\n",
      "Crash:\t[32C5F63D-CF84-457C-9063-0C758CCDACE7]\tContainer:products\tReason:Faulted\r\n",
      "Batch:\t[00000000-0000-0000-0000-000000000001]\tContainer:products\tStatus:\tComplete\r\n",
      "\r\n",
      "Container:\t[product]\tStatus:\tPopulated\r\n"
     ]
    }
   ],
   "source": [
    "cosmicworks --endpoint $documentEndpoint --key $primaryMasterKey --datasets product"
   ]
  },
  {
   "cell_type": "markdown",
   "metadata": {
    "dotnet_interactive": {
     "language": "sql"
    }
   },
   "source": [
    "At this stage we created a stored procedure and ran it from the portal. If you have not done so, please do before checking the results.\n",
    "\n",
    "If we want to check the item that was just added using the stored procedure above, inside our Cosmos DB **cosmicworks** in the container ***products***, we can use the following SQL script from the portal : \n",
    "\n",
    "> `SELECT * FROM products p where p.categoryId like 'demo'`"
   ]
  },
  {
   "cell_type": "markdown",
   "metadata": {},
   "source": [
    "#### Creating Stored Procedures with the Javascript SDK ####\n",
    "\n",
    "Creating a stored procedure using the .NET SDK requires the use of a special Scripts property in the **Microsoft.Azure.Cosmos.Container** class.\n",
    "\n",
    "Let’s start with an example that assumes a container instance in a variable named container.\n",
    "\n",
    "First, we need to store the stored procedure in a *string* variable : \n",
    "\n",
    ">`string sproc = @\"function greet() {`\n",
    "\n",
    ">`    var context = getContext();`\n",
    "\n",
    ">`    var response = context.getResponse();`\n",
    "\n",
    ">`    response.setBody('Hello, Learn!');`\n",
    "\n",
    ">`}\";`"
   ]
  },
  {
   "cell_type": "code",
   "execution_count": null,
   "metadata": {
    "dotnet_interactive": {
     "language": "csharp"
    }
   },
   "outputs": [],
   "source": [
    "string sproc = @\"function greet() {\n",
    "    var context = getContext();\n",
    "    var response = context.getResponse();\n",
    "    response.setBody('Hello, Learn!');\n",
    "}\";"
   ]
  },
  {
   "cell_type": "markdown",
   "metadata": {},
   "source": [
    "Next, create an object of type **Microsoft.Azure.Cosmos.Scripts.StoredProcedureProperties** with the **Id** and **Body** properties set to the unique identifier and content of the stored procedure, respectively.\n",
    "\n",
    ">`StoredProcedureProperties properties = new()`\n",
    "\n",
    ">`{`\n",
    "\n",
    ">`    Id = \"demoGreetingSDK\",`\n",
    "\n",
    ">`    Body = sproc`\n",
    "\n",
    ">`};`\n"
   ]
  },
  {
   "cell_type": "code",
   "execution_count": null,
   "metadata": {
    "dotnet_interactive": {
     "language": "csharp"
    }
   },
   "outputs": [],
   "source": [
    "using System;\n",
    "using System.Linq;\n",
    "using Microsoft.Azure.Cosmos;\n",
    "using Microsoft.Azure.Cosmos.Scripts;\n",
    "\n",
    "StoredProcedureProperties properties = new()\n",
    "{\n",
    "    Id = \"demoGreetingSDK1\",\n",
    "    Body = sproc\n",
    "};\n",
    "\n",
    "/*An alternative way to define the Stored Procedure Properties is below*/\n",
    "//StoredProcedureProperties properties = new(\"greet\", sproc);\n",
    "\n",
    "string myDBName = \"cosmicworks\";\n",
    "\n",
    "CosmosClient client = new (connectionString);\n",
    "AccountProperties account = await client.ReadAccountAsync();\n",
    "\n",
    "\n",
    "Database database = client.GetDatabase(myDBName);\n",
    "Container container = database.GetContainer(\"products\");\n",
    "\n",
    "await container.Scripts.CreateStoredProcedureAsync(properties);"
   ]
  },
  {
   "cell_type": "markdown",
   "metadata": {},
   "source": [
    "If you'd like to parse the results, the CreateStoredProcedureAsync<> method returns an object of type **Microsoft.Azure.Cosmos.Scripts.StoredProcedureResponse** that contains metadata about the newly created stored procedure within the container."
   ]
  },
  {
   "cell_type": "markdown",
   "metadata": {},
   "source": [
    "## Create server-side programming constructs in Azure Cosmos DB SQL API - User Defined Functions ##\n",
    "\n",
    "Azure Cosmos DB provides language-integrated, transactional execution of JavaScript. \n",
    "\n",
    "When using the SQL API in Azure Cosmos DB, you can write triggers and user-defined functions (UDFs) in the JavaScript language. In this module, you will author JavaScript logic that enhances the functionalities of the SQL query languages and point operations.\n",
    "\n",
    "User-defined functions (UDFs) are used to extend the Azure Cosmos DB SQL API’s query language grammar and implement custom business logic. UDFs can only be called from inside queries as they enhance and extend the SQL query language.\n",
    "\n",
    "Here is an example JSON document for a product with a name and a price property.\n",
    "\n",
    ">`[`\n",
    "\n",
    ">`  {`\n",
    "\n",
    ">`    \"name\": \"Black Bib Shorts (Small)\",`\n",
    "\n",
    ">`    \"price\": 80.00,`\n",
    "\n",
    ">`    \"priceWithTax\": 92.00`\n",
    "\n",
    ">`  }`\n",
    "\n",
    ">`]`\n",
    "\n",
    "A user-defined function is defined as a JavaScript function that takes in one or more scalar input[s] and then returns a scalar value as the output.\n",
    "\n",
    ">` function name(input) {`\n",
    "\n",
    ">`    return output;`\n",
    "\n",
    ">`}`\n",
    "\n",
    "In this example function, the scalar input is assumed to be a number that is then multipled by 1.15 to add 15% tax.\n",
    "\n",
    ">`function addTax(preTax) {`\n",
    "\n",
    ">`    return preTax * 1.15;`\n",
    "\n",
    ">`}`\n",
    "\n",
    "The updated query includes a third projected field that references the udf function by using the **udf.addTax()** syntax passing in the **p.price** field as an input parameter and aliasing the output of that field to the name **priceWithTax**.\n",
    "\n",
    ">`SELECT `\n",
    "\n",
    ">`    p.name,`\n",
    "\n",
    ">`    p.price,`\n",
    "\n",
    ">`    udf.addTax(p.price) AS priceWithTax`\n",
    "\n",
    ">`FROM`\n",
    "\n",
    ">`    products p`\n",
    "\n"
   ]
  },
  {
   "cell_type": "markdown",
   "metadata": {
    "dotnet_interactive": {
     "language": "csharp"
    }
   },
   "source": [
    "#### Implement and then use a UDF using the SDK ####\n",
    "\n",
    "The **Scripts** property in the **Microsoft.Azure.Cosmos.Container** class contains a **CreateUserDefinedFunctionAsync** method that is used to create a new user-defined function from code.\n",
    "\n",
    "To start, we will define the JavaScript function for the UDF in a string variable.\n",
    "\n",
    ">`string udf = @\"function addTax(preTax) {`\n",
    "\n",
    ">`    return preTax * 1.15;`\n",
    "\n",
    ">`}\";`"
   ]
  },
  {
   "cell_type": "code",
   "execution_count": null,
   "metadata": {
    "dotnet_interactive": {
     "language": "csharp"
    }
   },
   "outputs": [],
   "source": [
    "string udfSDK = @\"function addTaxSDK(preTax) {\n",
    "    return preTax * 1.15;\n",
    "}\";"
   ]
  },
  {
   "cell_type": "markdown",
   "metadata": {},
   "source": [
    "Now let's create an object of type **Microsoft.Azure.Cosmos.Scripts.UserDefinedFunctionProperties** with the **Id** and **Body** properties set to the unique identifier and content of the UDF, respectively."
   ]
  },
  {
   "cell_type": "code",
   "execution_count": null,
   "metadata": {
    "dotnet_interactive": {
     "language": "csharp"
    }
   },
   "outputs": [],
   "source": [
    "UserDefinedFunctionProperties properties = new()\n",
    "{\n",
    "    Id = \"addTaxSDK\",\n",
    "    Body = udfSDK\n",
    "};"
   ]
  },
  {
   "cell_type": "markdown",
   "metadata": {},
   "source": [
    "Finally, invoke the **CreateUserDefinedFunctionAsync** method of the container variable to create a new UDF passing in the properties composed earlier."
   ]
  },
  {
   "cell_type": "code",
   "execution_count": null,
   "metadata": {
    "dotnet_interactive": {
     "language": "csharp"
    }
   },
   "outputs": [],
   "source": [
    "await container.Scripts.CreateUserDefinedFunctionAsync(properties);"
   ]
  },
  {
   "cell_type": "markdown",
   "metadata": {},
   "source": [
    "Now, below is a complete code that you would use in the C# project and it uses a slightly different way of doing the same thing we did earlier."
   ]
  },
  {
   "cell_type": "code",
   "execution_count": null,
   "metadata": {
    "dotnet_interactive": {
     "language": "csharp"
    }
   },
   "outputs": [
    {
     "name": "stdout",
     "output_type": "stream",
     "text": [
      "Created UDF [taxSDKAlternativeWay]\r\n"
     ]
    }
   ],
   "source": [
    "using System;\n",
    "using Microsoft.Azure.Cosmos;\n",
    "using Microsoft.Azure.Cosmos.Scripts;\n",
    "\n",
    "string myDBName = \"cosmicworks\";\n",
    "\n",
    "CosmosClient client = new (connectionString);\n",
    "AccountProperties account = await client.ReadAccountAsync();\n",
    "\n",
    "\n",
    "Database database = client.GetDatabase(myDBName);\n",
    "Container container = database.GetContainer(\"products\");\n",
    "\n",
    "/*We can also create first a variable props of type UserDefinedFunctionProperties using an empty constructor*/\n",
    "\n",
    "UserDefinedFunctionProperties props = new ();\n",
    "\n",
    "/* And after that, we can set the properties of that varable, that is the ID and the BODY of the UDF*/\n",
    "\n",
    "props.Id = \"taxSDKAlternativeWay\";\n",
    "props.Body = \"function taxSDKAlternativeWay(i) { return i * 1.25; }\";\n",
    "\n",
    "/* Asynchronously call the container variable’s Scripts.CreateUserDefinedFunctionAsync method by passing in the \n",
    "props variable as a parameter and saving the result in a variable named udf of type UserDefinedFunctionResponse*/\n",
    "\n",
    "UserDefinedFunctionResponse udf = await container.Scripts.CreateUserDefinedFunctionAsync(props);\n",
    "   \n",
    "Console.WriteLine($\"Created UDF [{udf.Resource?.Id}]\");"
   ]
  },
  {
   "cell_type": "markdown",
   "metadata": {
    "dotnet_interactive": {
     "language": "csharp"
    }
   },
   "source": [
    "## Add triggers to an operation ##\n",
    "\n",
    "Triggers are the core way that Azure Cosmos DB SQL API can inject business logic both before and after operations. Triggers are resources stored within a container, and their code is written in JavaScript, much like stored procedures and user-defined functions.\n",
    "\n",
    "Triggers are defined as JavaScript functions. The function is then executed when the trigger is invoked.\n",
    "\n",
    ">`function name() {`\n",
    "\n",
    ">`}`\n",
    "\n",
    "Within the function, the `getContext()` method retrieves a context object, which can be used to perform multiple actions, including:\n",
    "\n",
    "- Access the HTTP request object (the source of a pre-trigger)\n",
    "\n",
    "- Access the HTTP response object (the source of a post-trigger)\n",
    "\n",
    "- Access the corresponding Azure Cosmos DB SQL API container\n",
    "\n",
    "Using the context object, you can invoke the getRequest() or getResponse() methods to access the HTTP request and response objects. You can also invoke the getCollection() method to access the container using the JavaScript query API."
   ]
  },
  {
   "cell_type": "markdown",
   "metadata": {},
   "source": [
    "Using the context object, you can invoke the `getRequest()` or `getResponse()` methods to access the HTTP request and response objects. You can also invoke the `getCollection()` method to access the container using the JavaScript query API.\n",
    "\n",
    "#### Pre-trigger ####\n",
    "\n",
    "Pre-triggers are ran before an operation and cannot have any input parameters. They can perform actions such as validate the properties of an item, or inject missing properties.\n",
    "\n",
    "Let's walk through a simple example where a JSON item is ready to be created in a container.\n",
    "\n",
    ">`{`\n",
    "\n",
    ">`  \"id\": \"caab0e5e-c037-48a4-a760-140497d19452\",`\n",
    "\n",
    ">`  \"name\": \"Handlebar\",`\n",
    "\n",
    ">`  \"categoryId\": \"e89a34d2-47ee-4da8-bcf6-10f552604b79\",`\n",
    "\n",
    ">`  \"categoryName\": \"Accessories\",`\n",
    "\n",
    ">`  \"price\": 50`\n",
    "\n",
    ">`}`\n",
    "\n",
    "In this example, a pre-trigger will be created that runs before an HTTP POST operation. This trigger will check for the existence of a **label** property. If it does not exist, it will add the label property with a value of new. The JavaScript code for this function uses the `getContext()` and `getRequest()` methods to get the current HTTP request, and then the request body.\n",
    "\n",
    ">`function addLabel(item) {`\n",
    "\n",
    ">`    var context = getContext();`\n",
    "\n",
    ">`    var request = context.getRequest();`\n",
    "\n",
    "    \n",
    ">`    var pendingItem = request.getBody();`\n",
    "\n",
    ">`}`\n",
    "\n",
    "Finally, the function will check for the existence of the label property, add it if it does not exist, and then return the modified item as the updated request body.\n",
    "\n",
    ">`if (!('label' in pendingItem))`\n",
    "\n",
    ">`    pendingItem['label'] = 'new';`\n",
    "\n",
    ">`request.setBody(pendingItem);`\n",
    "\n",
    "If you invoke the create operation using this pre-trigger, you should expect your resulting JSON to include the label property thanks to the logic in the trigger."
   ]
  },
  {
   "cell_type": "markdown",
   "metadata": {},
   "source": [
    "#### Post-trigger ####\n",
    "\n",
    "Post-triggers run after an operation has completed and can have input parameters even though they are not required. They have action to the HTTP response message right before it is sent to the client. They can perform actions such as updating or creating secondary items based on changes to your original item.\n",
    "\n",
    "Let's walk through a slightly different example with the same JSON file. Now, a post-trigger will be used to create a second item with a different materialized view of our data. Our goal, is to create a second item with three JSON properties; sourceId, categoryId, and displayName.\n",
    "\n",
    ">`{`\n",
    "\n",
    ">`  \"sourceId\": \"caab0e5e-c037-48a4-a760-140497d19452\",`\n",
    "\n",
    ">`  \"categoryId\": \"e89a34d2-47ee-4da8-bcf6-10f552604b79\",`\n",
    "\n",
    ">`  \"displayName\": \"Handlebar [Accessories]\",`\n",
    "\n",
    ">`}`"
   ]
  },
  {
   "cell_type": "markdown",
   "metadata": {},
   "source": [
    "We can start our function by getting both the container and HTTP response using the `getCollection()` and `getResponse()` methods. We will also get the newly created item using the `getBody()` method of the HTTP response object.\n",
    "\n",
    ">`function createView() {`\n",
    "\n",
    ">`    var context = getContext();`\n",
    "\n",
    ">`    var container = context.getCollection();`\n",
    "\n",
    ">`    var response = context.getResponse();`\n",
    "\n",
    ">`    var createdItem = response.getBody();`\n",
    "\n",
    ">`    var viewItem = {`\n",
    "\n",
    ">`        sourceId: createdItem.id,`\n",
    "\n",
    ">`        categoryId: createdItem.categoryId,`\n",
    "\n",
    ">```        displayName: `${createdItem.name} [${createdItem.categoryName}]` ```\n",
    "\n",
    ">`    };`\n",
    " \n",
    ">`    var accepted = container.createDocument(`\n",
    "\n",
    ">`        container.getSelfLink(),`\n",
    "\n",
    ">`        viewItem,`\n",
    "\n",
    ">`        (error, newItem) => {`\n",
    "\n",
    ">`            if (error) throw error;`\n",
    "\n",
    ">`        }`\n",
    "\n",
    ">`    );`\n",
    "\n",
    ">`    if (!accepted) return;`\n",
    "\n",
    ">`}`"
   ]
  },
  {
   "cell_type": "markdown",
   "metadata": {},
   "source": [
    "##### Create a pre-trigger using the SDK ######"
   ]
  },
  {
   "cell_type": "code",
   "execution_count": null,
   "metadata": {
    "dotnet_interactive": {
     "language": "csharp"
    }
   },
   "outputs": [],
   "source": [
    "string preTrigger = @\"function addLabelSDK1() {\n",
    "    var context = getContext();\n",
    "    var request = context.getRequest();\n",
    "    \n",
    "    var pendingItem = request.getBody();\n",
    "\n",
    "    if (!('label' in pendingItem))\n",
    "        pendingItem['label'] = 'new';\n",
    "\n",
    "    request.setBody(pendingItem);\n",
    "}\";"
   ]
  },
  {
   "cell_type": "markdown",
   "metadata": {},
   "source": [
    "Invoke the **CreateTriggerAsync** method of the container variable to create a new pre-trigger passing in the properties composed earlier."
   ]
  },
  {
   "cell_type": "code",
   "execution_count": null,
   "metadata": {
    "dotnet_interactive": {
     "language": "csharp"
    }
   },
   "outputs": [],
   "source": [
    "TriggerProperties properties = new()\n",
    "{\n",
    "    Id = \"addLabelSDK1\",\n",
    "    Body = preTrigger,\n",
    "    TriggerOperation = TriggerOperation.Create,\n",
    "    TriggerType = TriggerType.Pre\n",
    "};\n",
    "\n",
    "await container.Scripts.CreateTriggerAsync(properties);"
   ]
  }
 ],
 "metadata": {
  "kernelspec": {
   "display_name": ".NET (C#)",
   "language": "C#",
   "name": ".net-csharp"
  },
  "language_info": {
   "name": "C#"
  }
 },
 "nbformat": 4,
 "nbformat_minor": 2
}
